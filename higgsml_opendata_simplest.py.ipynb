{
 "cells": [
  {
   "cell_type": "markdown",
   "metadata": {
    "collapsed": true
   },
   "source": [
    "ATLAS Higgs Machine Learning Challenge 2014\n",
    "\n",
    "This script is a very simple example,  it uses a simple window on one variable DER_mass_MMC\n",
    "to compute the score and build a submission file in kaggle format\n",
    "\n",
    "Author D. Rousseau LAL"
   ]
  },
  {
   "cell_type": "code",
   "execution_count": 1,
   "metadata": {},
   "outputs": [
    {
     "name": "stdout",
     "output_type": "stream",
     "text": [
      "Reading the data file : atlas-higgs-challenge-2014-v2.csv\n"
     ]
    }
   ],
   "source": [
    "import csv\n",
    "\n",
    "datafile=\"atlas-higgs-challenge-2014-v2.csv\"\n",
    " \n",
    "\n",
    "print \"Reading the data file :\",datafile\n",
    "# store everything in memory\n",
    "alldata = list(csv.reader(open(datafile,\"rb\"), delimiter=','))\n",
    "\n",
    "# first line is the list of variables, put it aside\n",
    "header        = alldata.pop(0)"
   ]
  },
  {
   "cell_type": "code",
   "execution_count": 10,
   "metadata": {},
   "outputs": [
    {
     "name": "stdout",
     "output_type": "stream",
     "text": [
      "Loop on  dataset and compute the score\n"
     ]
    }
   ],
   "source": [
    "# get the index of a few variables\n",
    "iid=header.index(\"EventId\")\n",
    "ilabel=header.index(\"Label\")\n",
    "ikaggleset=header.index(\"KaggleSet\")\n",
    "ikaggleweight=header.index(\"KaggleWeight\")\n",
    "iweight=header.index(\"Weight\") # original weight     \n",
    "immc=header.index(\"DER_mass_MMC\")\n",
    "injet=header.index(\"PRI_jet_num\")\n",
    "\n",
    "\n",
    "# turn all entries from string to float, except EventId and PRI_jet_num to int, except Label and KaggleSet remains string\n",
    "for entry in alldata:\n",
    "        for i in range(len(entry)):\n",
    "                if i in [iid,injet]:\n",
    "                    entry[i]=int(entry[i])\n",
    "                elif i not in [ilabel,ikaggleset]:\n",
    "                    entry[i]=float(entry[i])\n",
    "\n",
    "print \"Loop on  dataset and compute the score\"\n",
    "header+=[\"myscore\"] # myscore is a new variable\n"
   ]
  },
  {
   "cell_type": "code",
   "execution_count": 11,
   "metadata": {
    "collapsed": true
   },
   "outputs": [],
   "source": [
    "# loop and all entries and compute my score\n",
    "for entry in alldata:\n",
    "    myscore=-abs(entry[immc]-125.) # this is a simple discriminating variable. Signal should be closer to zero.\n",
    "                                   # minus sign so that signal has the highest values\n",
    "                                   # so we will be making a simple window cut on the Higgs mass estimator\n",
    "                                   # 125 GeV is the middle of the window\n",
    "    entry+=[myscore]\n",
    "    \n",
    "# at this stage alldata is a list (one entry per line) of list of variables\n",
    "# which can be conveniently accessed by getting the index from the header \n",
    "\n",
    "threshold=-22 # somewhat arbitrary value, should be optimised\n"
   ]
  },
  {
   "cell_type": "code",
   "execution_count": 12,
   "metadata": {},
   "outputs": [
    {
     "name": "stdout",
     "output_type": "stream",
     "text": [
      "Loop again to determine the AMS, using threshold: -22\n",
      "only look at kaggle public data set ('b') (other choice training 't', private 'v', unused 'u')\n",
      "One could make one own dataset (then the weight should be renoramalised)\n"
     ]
    }
   ],
   "source": [
    "print \"Loop again to determine the AMS, using threshold:\",threshold\n",
    "sumselsig=0.\n",
    "sumselbkg=0.\n",
    "sumallsig=0.\n",
    "sumallbkg=0.\n",
    "sumsubsig=0.\n",
    "sumsubbkg=0.\n",
    "t=0\n",
    "b=0\n",
    "v=0\n",
    "u=0\n",
    "\n",
    "\n",
    "sumselkagglesig=0.\n",
    "sumselkagglebkg=0.\n",
    "\n",
    "iscore=header.index(\"myscore\")\n",
    "print \"only look at kaggle public data set ('b') (other choice training 't', private 'v', unused 'u')\"\n",
    "print \"One could make one own dataset (then the weight should be renoramalised)\"\n",
    "\n"
   ]
  },
  {
   "cell_type": "code",
   "execution_count": 13,
   "metadata": {},
   "outputs": [
    {
     "name": "stdout",
     "output_type": "stream",
     "text": [
      "training t 250000\n",
      "public b 100000\n",
      "private v 450000\n",
      "unused u 18238\n"
     ]
    }
   ],
   "source": [
    "for entry in alldata:\n",
    "    myscore=entry[iscore]\n",
    "    weight=entry[iweight]\n",
    "    kaggleweight=entry[ikaggleweight] \n",
    "\n",
    " # compute sum of signal and background weight needed to renormalise\n",
    "    if entry[ilabel]==\"s\":\n",
    "        sumallsig+=weight\n",
    "    else:\n",
    "        sumallbkg+=weight    \n",
    "\n",
    "    if entry[ikaggleset]==\"t\":\n",
    "        t+=1 \n",
    "    if entry[ikaggleset]==\"b\":\n",
    "        b+=1\n",
    "    if entry[ikaggleset]==\"v\":\n",
    "        v+=1\n",
    "    if entry[ikaggleset]==\"u\":\n",
    "        u+=1      \n",
    "\n",
    "    if entry[ikaggleset]!=\"b\":\n",
    "        continue\n",
    "\n",
    "\n",
    "# from now on, only work on subset\n",
    "    # compute sum of signal and background weight needed to renormalise\n",
    "    if entry[ilabel]==\"s\":\n",
    "        sumsubsig+=weight\n",
    "    else:\n",
    "        sumsubbkg+=weight    \n",
    "\n",
    "\n",
    " # sum event weight passing the selection. Of course in real life the threshold should be optimised\n",
    "    if myscore >threshold:\n",
    "        if entry[ilabel]==\"s\":\n",
    "            sumselsig+=weight\n",
    "            sumselkagglesig+=kaggleweight\n",
    "        else:\n",
    "            sumselbkg+=weight                \n",
    "            sumselkagglebkg+=kaggleweight    \n",
    "    \t\n",
    "print \"training t %i\" % (t)\n",
    "print \"public b %i\" % (b)\n",
    "print \"private v %i\" % (v)\n",
    "print \"unused u %i\" % (u)  "
   ]
  },
  {
   "cell_type": "code",
   "execution_count": 14,
   "metadata": {
    "collapsed": true
   },
   "outputs": [],
   "source": [
    "# ok now we have our signal (sumselkagglesig) and background (sumselkagglebkg) estimation\n",
    "# just as an illustration, also compute the renormalisation myself from weight\n",
    "\n",
    "sumsig=sumselsig*sumallsig/sumsubsig\n",
    "sumbkg=sumselbkg*sumallbkg/sumsubbkg\n",
    "\n"
   ]
  },
  {
   "cell_type": "code",
   "execution_count": 15,
   "metadata": {},
   "outputs": [
    {
     "name": "stdout",
     "output_type": "stream",
     "text": [
      " AMS with recomputed weight:  1.54450974336 ( signal= 461.228096209  bkg= 89012.844986 )\n",
      " AMS with kaggle weight :  1.54450974337 ( signal= 461.228096209  bkg= 89012.844986 )\n",
      " recomputed weight and Kaggle weight should be identical if using a predefined kaggle subset\n"
     ]
    }
   ],
   "source": [
    "# compute AMS\n",
    "def ams(s,b):\n",
    "    from math import sqrt,log\n",
    "    if b==0:\n",
    "        return 0\n",
    "\n",
    "    return sqrt(2*((s+b+10)*log(1+float(s)/(b+10))-s))\n",
    "\n",
    "print \" AMS with recomputed weight: \",ams(sumsig,sumbkg),\"( signal=\",sumsig,\" bkg=\",sumbkg,\")\"\n",
    "print \" AMS with kaggle weight : \",ams(sumselkagglesig,sumselkagglebkg),\"( signal=\",sumselkagglesig,\" bkg=\",sumselkagglebkg,\")\"\n",
    "print \" recomputed weight and Kaggle weight should be identical if using a predefined kaggle subset\"\n"
   ]
  },
  {
   "cell_type": "code",
   "execution_count": 17,
   "metadata": {},
   "outputs": [
    {
     "name": "stdout",
     "output_type": "stream",
     "text": [
      " Now build submission file a la Kaggle: submission_simplest.csv\n"
     ]
    }
   ],
   "source": [
    "submissionfilename=\"submission_simplest.csv\"\n",
    "print \" Now build submission file a la Kaggle:\",submissionfilename\n",
    "\n",
    "\n",
    "# build subset with only the needed variables\n",
    "alltest=[]\n",
    "for entry in alldata:\n",
    "    if entry[ikaggleset] not in [\"b\",\"v\"]:\n",
    "        continue\n",
    "\n",
    " # build the new record with only the needed info    \n",
    "    outputentry=[]\n",
    "    outputentry+=[entry[iid]]\n",
    "    outputentry+=[entry[iscore]]\n",
    "    alltest+=[outputentry]\n",
    "\n"
   ]
  },
  {
   "cell_type": "code",
   "execution_count": 19,
   "metadata": {
    "collapsed": true
   },
   "outputs": [],
   "source": [
    "#index of variables in the subset     \n",
    "ioid=0\n",
    "ioscore=1    \n",
    "# Sort on the score \n",
    "alltestsorted=sorted(alltest,key=lambda entrytest: entrytest[ioscore])\n",
    "# the RankOrder we want is now simply the entry number in alltestsorted\n",
    "\n",
    "\n",
    "outputfile=open(submissionfilename,\"w\")\n",
    "outputfile.write(\"EventId,RankOrder,Class\\n\")\n",
    "\n",
    "rank=1 # kaggle wants to start at 1\n",
    "for oentry in alltestsorted:\n",
    "    # compute label \n",
    "    slabel=\"b\"\n",
    "    if oentry[ioscore]>threshold: # arbitrary threshold\n",
    "        slabel=\"s\"\n",
    "\n",
    "    outputfile.write(str(oentry[ioid])+\",\")\n",
    "    outputfile.write(str(rank)+\",\")\n",
    "    outputfile.write(slabel)            \n",
    "    outputfile.write(\"\\n\")\n",
    "    rank+=1\n",
    "\n",
    "outputfile.close()\n",
    "\n",
    "\n",
    "\n",
    "# delete big objects\n",
    "del alldata,alltest,alltestsorted"
   ]
  },
  {
   "cell_type": "code",
   "execution_count": null,
   "metadata": {
    "collapsed": true
   },
   "outputs": [],
   "source": []
  }
 ],
 "metadata": {
  "kernelspec": {
   "display_name": "Python 2",
   "language": "python",
   "name": "python2"
  },
  "language_info": {
   "codemirror_mode": {
    "name": "ipython",
    "version": 2
   },
   "file_extension": ".py",
   "mimetype": "text/x-python",
   "name": "python",
   "nbconvert_exporter": "python",
   "pygments_lexer": "ipython2",
   "version": "2.7.13"
  }
 },
 "nbformat": 4,
 "nbformat_minor": 2
}
